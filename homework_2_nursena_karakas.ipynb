{
 "cells": [
  {
   "cell_type": "code",
   "execution_count": 1,
   "metadata": {},
   "outputs": [],
   "source": [
    "import nsfg"
   ]
  },
  {
   "cell_type": "code",
   "execution_count": 2,
   "metadata": {},
   "outputs": [],
   "source": [
    "resp=nsfg.ReadFemResp()"
   ]
  },
  {
   "cell_type": "code",
   "execution_count": 3,
   "metadata": {},
   "outputs": [],
   "source": [
    "#Question 1\n",
    "hieduc=resp['hieduc']"
   ]
  },
  {
   "cell_type": "code",
   "execution_count": 4,
   "metadata": {},
   "outputs": [
    {
     "data": {
      "text/plain": [
       "0        6\n",
       "1       10\n",
       "2        9\n",
       "3        5\n",
       "4        6\n",
       "5        5\n",
       "6        6\n",
       "7        9\n",
       "8        9\n",
       "9       10\n",
       "10       9\n",
       "11       9\n",
       "12       9\n",
       "13       5\n",
       "14       9\n",
       "15       9\n",
       "16       6\n",
       "17       9\n",
       "18       6\n",
       "19       6\n",
       "20      10\n",
       "21       6\n",
       "22      12\n",
       "23      10\n",
       "24       9\n",
       "25       9\n",
       "26      10\n",
       "27      10\n",
       "28       9\n",
       "29       9\n",
       "        ..\n",
       "7613     7\n",
       "7614    12\n",
       "7615     5\n",
       "7616    10\n",
       "7617    12\n",
       "7618    13\n",
       "7619    13\n",
       "7620     9\n",
       "7621     9\n",
       "7622     7\n",
       "7623     9\n",
       "7624    10\n",
       "7625    10\n",
       "7626    10\n",
       "7627    10\n",
       "7628     7\n",
       "7629    12\n",
       "7630     9\n",
       "7631    10\n",
       "7632     9\n",
       "7633    10\n",
       "7634     9\n",
       "7635     9\n",
       "7636     7\n",
       "7637     9\n",
       "7638    13\n",
       "7639     7\n",
       "7640    11\n",
       "7641     6\n",
       "7642    10\n",
       "Name: hieduc, Length: 7643, dtype: int64"
      ]
     },
     "execution_count": 4,
     "metadata": {},
     "output_type": "execute_result"
    }
   ],
   "source": [
    "hieduc"
   ]
  },
  {
   "cell_type": "code",
   "execution_count": 5,
   "metadata": {},
   "outputs": [],
   "source": [
    "school=hieduc[hieduc<= 10]"
   ]
  },
  {
   "cell_type": "code",
   "execution_count": 6,
   "metadata": {},
   "outputs": [
    {
     "data": {
      "text/plain": [
       "0        6\n",
       "1       10\n",
       "2        9\n",
       "3        5\n",
       "4        6\n",
       "5        5\n",
       "6        6\n",
       "7        9\n",
       "8        9\n",
       "9       10\n",
       "10       9\n",
       "11       9\n",
       "12       9\n",
       "13       5\n",
       "14       9\n",
       "15       9\n",
       "16       6\n",
       "17       9\n",
       "18       6\n",
       "19       6\n",
       "20      10\n",
       "21       6\n",
       "23      10\n",
       "24       9\n",
       "25       9\n",
       "26      10\n",
       "27      10\n",
       "28       9\n",
       "29       9\n",
       "30      10\n",
       "        ..\n",
       "7600    10\n",
       "7602    10\n",
       "7608    10\n",
       "7609     5\n",
       "7610     9\n",
       "7611     5\n",
       "7612     9\n",
       "7613     7\n",
       "7615     5\n",
       "7616    10\n",
       "7620     9\n",
       "7621     9\n",
       "7622     7\n",
       "7623     9\n",
       "7624    10\n",
       "7625    10\n",
       "7626    10\n",
       "7627    10\n",
       "7628     7\n",
       "7630     9\n",
       "7631    10\n",
       "7632     9\n",
       "7633    10\n",
       "7634     9\n",
       "7635     9\n",
       "7636     7\n",
       "7637     9\n",
       "7639     7\n",
       "7641     6\n",
       "7642    10\n",
       "Name: hieduc, Length: 5498, dtype: int64"
      ]
     },
     "execution_count": 6,
     "metadata": {},
     "output_type": "execute_result"
    }
   ],
   "source": [
    "school"
   ]
  },
  {
   "cell_type": "code",
   "execution_count": 7,
   "metadata": {
    "scrolled": true
   },
   "outputs": [
    {
     "data": {
      "text/plain": [
       "22      12\n",
       "32      12\n",
       "34      11\n",
       "35      12\n",
       "43      12\n",
       "48      12\n",
       "53      12\n",
       "54      12\n",
       "88      12\n",
       "91      12\n",
       "94      11\n",
       "96      13\n",
       "98      12\n",
       "101     12\n",
       "103     12\n",
       "104     12\n",
       "106     12\n",
       "107     12\n",
       "108     14\n",
       "113     12\n",
       "115     12\n",
       "119     11\n",
       "138     11\n",
       "140     11\n",
       "152     12\n",
       "157     11\n",
       "160     11\n",
       "164     15\n",
       "166     12\n",
       "168     11\n",
       "        ..\n",
       "7563    12\n",
       "7565    15\n",
       "7566    12\n",
       "7572    13\n",
       "7573    11\n",
       "7576    15\n",
       "7578    13\n",
       "7581    14\n",
       "7583    12\n",
       "7584    14\n",
       "7590    12\n",
       "7591    13\n",
       "7592    13\n",
       "7593    13\n",
       "7594    12\n",
       "7596    11\n",
       "7598    11\n",
       "7601    12\n",
       "7603    11\n",
       "7604    13\n",
       "7605    11\n",
       "7606    13\n",
       "7607    11\n",
       "7614    12\n",
       "7617    12\n",
       "7618    13\n",
       "7619    13\n",
       "7629    12\n",
       "7638    13\n",
       "7640    11\n",
       "Name: hieduc, Length: 2145, dtype: int64"
      ]
     },
     "execution_count": 7,
     "metadata": {},
     "output_type": "execute_result"
    }
   ],
   "source": [
    "university=hieduc[hieduc>10]\n",
    "university"
   ]
  },
  {
   "cell_type": "code",
   "execution_count": 8,
   "metadata": {},
   "outputs": [
    {
     "data": {
      "text/plain": [
       "0        2\n",
       "1        4\n",
       "2        4\n",
       "3        3\n",
       "4        3\n",
       "5        4\n",
       "6        4\n",
       "7        3\n",
       "8        3\n",
       "9        3\n",
       "10       2\n",
       "11       4\n",
       "12       1\n",
       "13       4\n",
       "14       2\n",
       "15       3\n",
       "16       3\n",
       "17       5\n",
       "18       1\n",
       "19       3\n",
       "20       4\n",
       "21       3\n",
       "22       3\n",
       "23       2\n",
       "24       5\n",
       "25       4\n",
       "26       2\n",
       "27       3\n",
       "28       3\n",
       "29       1\n",
       "        ..\n",
       "7613     3\n",
       "7614     3\n",
       "7615     3\n",
       "7616     3\n",
       "7617     4\n",
       "7618     3\n",
       "7619     3\n",
       "7620     3\n",
       "7621     4\n",
       "7622     4\n",
       "7623     3\n",
       "7624     4\n",
       "7625     5\n",
       "7626     2\n",
       "7627     3\n",
       "7628     5\n",
       "7629     4\n",
       "7630     2\n",
       "7631     1\n",
       "7632     2\n",
       "7633     3\n",
       "7634     1\n",
       "7635     2\n",
       "7636     1\n",
       "7637    96\n",
       "7638     3\n",
       "7639     4\n",
       "7640     3\n",
       "7641     3\n",
       "7642     2\n",
       "Name: agemomb1, Length: 7643, dtype: int64"
      ]
     },
     "execution_count": 8,
     "metadata": {},
     "output_type": "execute_result"
    }
   ],
   "source": [
    "age_of_moms=resp['agemomb1']\n",
    "age_of_moms"
   ]
  },
  {
   "cell_type": "code",
   "execution_count": 9,
   "metadata": {},
   "outputs": [
    {
     "data": {
      "text/plain": [
       "10.812288996229537"
      ]
     },
     "execution_count": 9,
     "metadata": {},
     "output_type": "execute_result"
    }
   ],
   "source": [
    "age_of_moms=resp['agemomb1']\n",
    "age_of_moms_std=age_of_moms.std()\n",
    "age_of_moms_std"
   ]
  },
  {
   "cell_type": "code",
   "execution_count": 10,
   "metadata": {},
   "outputs": [
    {
     "data": {
      "text/plain": [
       "3.9820751013999738"
      ]
     },
     "execution_count": 10,
     "metadata": {},
     "output_type": "execute_result"
    }
   ],
   "source": [
    "age_of_moms_mean=age_of_moms.mean()\n",
    "age_of_moms_mean"
   ]
  },
  {
   "cell_type": "code",
   "execution_count": 11,
   "metadata": {},
   "outputs": [
    {
     "data": {
      "text/plain": [
       "116.90559333798633"
      ]
     },
     "execution_count": 11,
     "metadata": {},
     "output_type": "execute_result"
    }
   ],
   "source": [
    "age_of_moms_var=age_of_moms.var()\n",
    "age_of_moms_var"
   ]
  },
  {
   "cell_type": "code",
   "execution_count": 12,
   "metadata": {},
   "outputs": [
    {
     "data": {
      "text/plain": [
       "1"
      ]
     },
     "execution_count": 12,
     "metadata": {},
     "output_type": "execute_result"
    }
   ],
   "source": [
    "age_of_moms_min=age_of_moms.min()\n",
    "age_of_moms_min"
   ]
  },
  {
   "cell_type": "code",
   "execution_count": 13,
   "metadata": {},
   "outputs": [
    {
     "data": {
      "text/plain": [
       "96"
      ]
     },
     "execution_count": 13,
     "metadata": {},
     "output_type": "execute_result"
    }
   ],
   "source": [
    "age_of_moms_max=age_of_moms.max()\n",
    "age_of_moms_max"
   ]
  },
  {
   "cell_type": "code",
   "execution_count": 14,
   "metadata": {},
   "outputs": [
    {
     "data": {
      "text/plain": [
       "Pmf({5L: 0.1465987631866133, 6L: 0.08184794470716625, 7L: 0.07548199345216443, 8L: 0.005820298290287377, 9L: 0.39487086213168426, 10L: 0.2953801382320844})"
      ]
     },
     "execution_count": 14,
     "metadata": {},
     "output_type": "execute_result"
    }
   ],
   "source": [
    "#Question 2\n",
    "import thinkstats2\n",
    "school_pmf=thinkstats2.Pmf(school)\n",
    "school_pmf\n"
   ]
  },
  {
   "cell_type": "code",
   "execution_count": 15,
   "metadata": {},
   "outputs": [
    {
     "data": {
      "text/plain": [
       "Pmf({11L: 0.2578088578088578, 12L: 0.5459207459207459, 13L: 0.13752913752913754, 14L: 0.015850815850815853, 15L: 0.04289044289044289})"
      ]
     },
     "execution_count": 15,
     "metadata": {},
     "output_type": "execute_result"
    }
   ],
   "source": [
    "university_pmf=thinkstats2.Pmf(university)\n",
    "university_pmf"
   ]
  },
  {
   "cell_type": "code",
   "execution_count": 16,
   "metadata": {},
   "outputs": [
    {
     "data": {
      "image/png": "[encoded data removed]",
      "text/plain": [
       "<matplotlib.figure.Figure at 0x1864ba70>"
      ]
     },
     "metadata": {},
     "output_type": "display_data"
    },
    {
     "data": {
      "text/plain": [
       "<matplotlib.figure.Figure at 0x1849b030>"
      ]
     },
     "metadata": {},
     "output_type": "display_data"
    }
   ],
   "source": [
    "import thinkplot\n",
    "width=0.5\n",
    "thinkplot.PrePlot(2)\n",
    "thinkplot.Pmfs([school_pmf, university_pmf])\n",
    "thinkplot.Show(xlabel='Education Degree', ylabel='PMF')\n"
   ]
  },
  {
   "cell_type": "code",
   "execution_count": 17,
   "metadata": {},
   "outputs": [
    {
     "data": {
      "text/plain": [
       "Cdf([ 5  6  7  8  9 10], [ 0.14659876  0.22844671  0.3039287   0.309749    0.70461986  1.        ])"
      ]
     },
     "execution_count": 17,
     "metadata": {},
     "output_type": "execute_result"
    }
   ],
   "source": [
    "school_cdf=thinkstats2.Cdf(school)\n",
    "school_cdf\n"
   ]
  },
  {
   "cell_type": "code",
   "execution_count": 18,
   "metadata": {},
   "outputs": [
    {
     "data": {
      "text/plain": [
       "Cdf([11 12 13 14 15], [ 0.25780886  0.8037296   0.94125874  0.95710956  1.        ])"
      ]
     },
     "execution_count": 18,
     "metadata": {},
     "output_type": "execute_result"
    }
   ],
   "source": [
    "university_cdf=thinkstats2.Cdf(university)\n",
    "university_cdf"
   ]
  },
  {
   "cell_type": "code",
   "execution_count": 19,
   "metadata": {},
   "outputs": [
    {
     "data": {
      "image/png": "[encoded data removed]",
      "text/plain": [
       "<matplotlib.figure.Figure at 0x184ba590>"
      ]
     },
     "metadata": {},
     "output_type": "display_data"
    },
    {
     "data": {
      "text/plain": [
       "<matplotlib.figure.Figure at 0x18488d70>"
      ]
     },
     "metadata": {},
     "output_type": "display_data"
    }
   ],
   "source": [
    "width=0.5\n",
    "thinkplot.PrePlot(2)\n",
    "thinkplot.Cdfs([school_cdf, university_cdf])\n",
    "thinkplot.Show(xlabel='education degree', ylabel='CDF')"
   ]
  },
  {
   "cell_type": "code",
   "execution_count": 20,
   "metadata": {},
   "outputs": [],
   "source": [
    "#Question 3\n",
    "school_student=resp[hieduc<= 10]\n",
    "school_age_of_moms=school_student['agemomb1']\n",
    "university_student=resp[hieduc>10]\n",
    "university_age_of_moms=university_student['agemomb1']"
   ]
  },
  {
   "cell_type": "code",
   "execution_count": 21,
   "metadata": {},
   "outputs": [
    {
     "data": {
      "image/png": "[encoded data removed]",
      "text/plain": [
       "<matplotlib.figure.Figure at 0x182d65b0>"
      ]
     },
     "metadata": {},
     "output_type": "display_data"
    }
   ],
   "source": [
    "school_moms_pmf=thinkstats2.Pmf(school_age_of_moms)\n",
    "university_moms_pmf=thinkstats2.Pmf(university_age_of_moms)\n",
    "diffs = []\n",
    "years=range(1,8)\n",
    "for year in years:\n",
    "    probability_school_moms = school_moms_pmf.Prob(year)\n",
    "    probability_university_moms = university_moms_pmf.Prob(year)\n",
    "    diff = 100 * (probability_school_moms - probability_university_moms)\n",
    "    diffs.append(diff)\n",
    "thinkplot.Bar(years, diffs)"
   ]
  },
  {
   "cell_type": "code",
   "execution_count": 22,
   "metadata": {},
   "outputs": [
    {
     "data": {
      "image/png": "[encoded data removed]",
      "text/plain": [
       "<matplotlib.figure.Figure at 0x18484750>"
      ]
     },
     "metadata": {},
     "output_type": "display_data"
    },
    {
     "data": {
      "text/plain": [
       "<matplotlib.figure.Figure at 0x18498f30>"
      ]
     },
     "metadata": {},
     "output_type": "display_data"
    }
   ],
   "source": [
    "#Question 4\n",
    "school_moms_cdf=thinkstats2.Cdf(school_age_of_moms)\n",
    "university_moms_cdf=thinkstats2.Cdf(university_age_of_moms)\n",
    "width=0.5\n",
    "thinkplot.PrePlot(2)\n",
    "thinkplot.Cdfs([school_moms_cdf, university_moms_cdf])\n",
    "thinkplot.Show(xlabel='age of moms at first birth', ylabel='CDF')"
   ]
  },
  {
   "cell_type": "code",
   "execution_count": 23,
   "metadata": {},
   "outputs": [
    {
     "data": {
      "text/plain": [
       "Pmf({96L: 0.013476383618997776, 1L: 0.1742771163155829, 2L: 0.20057569017401544, 3L: 0.3947402852283135, 4L: 0.15595970168781892, 5L: 0.060970822975271496})"
      ]
     },
     "execution_count": 23,
     "metadata": {},
     "output_type": "execute_result"
    }
   ],
   "source": [
    "pmf_age_of_mom=thinkstats2.Pmf(resp['agemomb1'])\n",
    "pmf_age_of_mom\n"
   ]
  },
  {
   "cell_type": "code",
   "execution_count": null,
   "metadata": {},
   "outputs": [],
   "source": []
  }
 ],
 "metadata": {
  "kernelspec": {
   "display_name": "Python 2",
   "language": "python",
   "name": "python2"
  },
  "language_info": {
   "codemirror_mode": {
    "name": "ipython",
    "version": 2
   },
   "file_extension": ".py",
   "mimetype": "text/x-python",
   "name": "python",
   "nbconvert_exporter": "python",
   "pygments_lexer": "ipython2",
   "version": "2.7.12"
  }
 },
 "nbformat": 4,
 "nbformat_minor": 2
}
